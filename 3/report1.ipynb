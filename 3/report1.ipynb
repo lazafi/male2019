{
 "cells": [
  {
   "cell_type": "code",
   "execution_count": 1,
   "metadata": {},
   "outputs": [
    {
     "data": {
      "text/plain": [
       "'/tmp/08cc2917-bc01-4021-b845-1da7c00c6e88'"
      ]
     },
     "execution_count": 1,
     "metadata": {},
     "output_type": "execute_result"
    }
   ],
   "source": [
    "import os\n",
    "os.getcwd()"
   ]
  },
  {
   "cell_type": "code",
   "execution_count": 2,
   "metadata": {},
   "outputs": [
    {
     "data": {
      "text/plain": [
       "'/home/lazafi/labor/ml-2019/male2019/3/src/fruits'"
      ]
     },
     "execution_count": 2,
     "metadata": {},
     "output_type": "execute_result"
    }
   ],
   "source": [
    "os.chdir('/home/lazafi/labor/ml-2019/male2019/3/src/fruits')\n",
    "os.getcwd()"
   ]
  },
  {
   "cell_type": "code",
   "execution_count": 3,
   "metadata": {},
   "outputs": [],
   "source": [
    "import matplotlib.pyplot as plt\n",
    "import matplotlib.image as mpimg\n",
    "import numpy as np\n",
    "import tensorflow as tf\n",
    "from PIL import Image\n",
    "from glob import glob\n",
    "import csv\n",
    "import seaborn as sn\n",
    "import pandas as pd\n",
    "\n",
    "#from tqdm import tqdm\n",
    "\n",
    "from sklearn.ensemble import RandomForestClassifier\n",
    "from sklearn import svm\n",
    "from sklearn.model_selection import train_test_split\n",
    "from sklearn.neighbors import KNeighborsClassifier\n",
    "from sklearn.neural_network import MLPClassifier\n",
    "from sklearn import metrics\n",
    "\n",
    "from helper import *\n",
    "from bov.Bag import BOV\n",
    "\n"
   ]
  },
  {
   "cell_type": "markdown",
   "metadata": {},
   "source": [
    "## Feature Variables"
   ]
  },
  {
   "cell_type": "markdown",
   "metadata": {},
   "source": [
    "### Pixel Data\n",
    "\n",
    "Images are read as 3-tupples of color values. We use cv2 library for reading images and to convert them in rgb arrays.  Color values are then standartized."
   ]
  },
  {
   "cell_type": "code",
   "execution_count": null,
   "metadata": {},
   "outputs": [
    {
     "name": "stdout",
     "output_type": "stream",
     "text": [
      " category strawberries 2\n",
      " category apples 2\n"
     ]
    }
   ],
   "source": [
    "# read is limited to 2 files from 2 subdirecories\n",
    "fruit2data = FIDS30DataSet(\"/home/lazafi/labor/ml-2019/male2019/3/data/FIDS30\", limit=2)\n",
    "fruit2data.addFeatures(Pixel())\n",
    "print(fruit2data.x_data)"
   ]
  },
  {
   "cell_type": "markdown",
   "metadata": {},
   "source": [
    "### Histogram\n",
    "\n",
    "From the pixel data we extracted color histograms. For the color images we count the occurances for each 256 colors in each of the 3 channels seperatelly and concat them to a long histogram of 768 colors. We also provide the option to reduce the histogram to the given amount of bins.\n"
   ]
  },
  {
   "cell_type": "code",
   "execution_count": null,
   "metadata": {
    "scrolled": false
   },
   "outputs": [],
   "source": [
    "# we only use 10 bins per color channel\n",
    "fruit2data.resetFeatures()\n",
    "fruit2data.addFeatures(Histogram(10, debug=True))\n"
   ]
  },
  {
   "cell_type": "markdown",
   "metadata": {},
   "source": [
    "### Visual Bag of Words\n",
    "\n",
    "We use BOV to describe features of images. \n",
    "\n",
    "TODO: explain method used\n",
    "TODO: show something\n"
   ]
  },
  {
   "cell_type": "code",
   "execution_count": null,
   "metadata": {},
   "outputs": [],
   "source": [
    "fruit2data.resetFeatures()\n",
    "fruit2data.addFeatures(BOV(10, debug = True))"
   ]
  },
  {
   "cell_type": "markdown",
   "metadata": {},
   "source": [
    "## FIDS30 Fruits Dataset\n"
   ]
  },
  {
   "cell_type": "code",
   "execution_count": null,
   "metadata": {},
   "outputs": [],
   "source": [
    "# prepare the fids30 dataset with histogram features\n",
    "fids30_data = FIDS30DataSet(\"/home/lazafi/labor/ml-2019/male2019/3/data/FIDS30\", 10)\n",
    "fids30_data.addFeatures(Histogram(50))\n",
    "print(fids30_data.count)"
   ]
  },
  {
   "cell_type": "code",
   "execution_count": null,
   "metadata": {},
   "outputs": [],
   "source": [
    "print(fids30_data.labels)"
   ]
  },
  {
   "cell_type": "code",
   "execution_count": null,
   "metadata": {},
   "outputs": [],
   "source": [
    "# svc\n",
    "\n",
    "exp1 = Experiment(fids30_data, svm.SVC(gamma='auto'), \"Histogram with SVC\")\n",
    "exp1.train()\n",
    "exp1.evaluate(figure=True)\n"
   ]
  },
  {
   "cell_type": "code",
   "execution_count": null,
   "metadata": {},
   "outputs": [],
   "source": [
    "# knn\n",
    "exp1 = Experiment(fids30_data, KNeighborsClassifier(n_neighbors=3, weights = 'distance'),  \"Histogram with Knn k=3\")\n",
    "exp1.train()\n",
    "exp1.evaluate(figure=True, text=True)\n",
    "\n"
   ]
  },
  {
   "cell_type": "code",
   "execution_count": null,
   "metadata": {},
   "outputs": [],
   "source": [
    "score = []\n",
    "for k in range(1, 20):\n",
    "    #print(k)\n",
    "    classifier = KNeighborsClassifier(n_neighbors=k, weights = 'distance')\n",
    "    classifier.fit(exp1.x_train, exp1.y_train)\n",
    "    predicted = classifier.predict(exp1.x_test)\n",
    "    #print(predicted)\n",
    "    #print(exp1.y_test)\n",
    "    score.append(metrics.precision_score(exp1.y_test, predicted, average='macro'))\n",
    "plt.figure(figsize=(10,10))\n",
    "plt.plot(score)\n",
    "plt.show()"
   ]
  },
  {
   "cell_type": "code",
   "execution_count": null,
   "metadata": {},
   "outputs": [],
   "source": [
    "\n",
    "# mlp\n",
    "exp1 = Experiment(fids30_data,  MLPClassifier())\n",
    "exp1.train()\n",
    "exp1.evaluate(figure=True)\n"
   ]
  },
  {
   "cell_type": "code",
   "execution_count": null,
   "metadata": {},
   "outputs": [],
   "source": [
    "exp1.evaluate(text=True)"
   ]
  },
  {
   "cell_type": "code",
   "execution_count": null,
   "metadata": {},
   "outputs": [],
   "source": [
    "# prepare dataset with bov features\n",
    "fids30_data.resetFeatures()\n",
    "fids30_data.addFeatures(BOV(50))\n"
   ]
  },
  {
   "cell_type": "code",
   "execution_count": null,
   "metadata": {},
   "outputs": [],
   "source": [
    "\n",
    "# svc\n",
    "exp1 = Experiment(fids30_data,  svm.SVC())\n",
    "exp1.train()\n",
    "exp1.evaluate(figure=True)\n"
   ]
  },
  {
   "cell_type": "code",
   "execution_count": null,
   "metadata": {},
   "outputs": [],
   "source": [
    "\n",
    "# knn\n",
    "exp1 = Experiment(fids30_data, KNeighborsClassifier(n_neighbors=3, weights = 'distance'))\n",
    "exp1.train()\n",
    "exp1.evaluate(figure=True)\n"
   ]
  },
  {
   "cell_type": "code",
   "execution_count": null,
   "metadata": {},
   "outputs": [],
   "source": [
    "\n",
    "# mlp\n",
    "exp1 = Experiment(fids30_data,  MLPClassifier())\n",
    "exp1.train()\n",
    "exp1.evaluate(figure=True)\n"
   ]
  },
  {
   "cell_type": "code",
   "execution_count": null,
   "metadata": {},
   "outputs": [],
   "source": [
    "# prepare the car dataset with histogram features\n",
    "#datapath = \"/home/lazafi/labor/ml-2019/male2019/3/data/CarData\"\n",
    "car_data = CarDataSet()\n",
    "car_data.loadImages(\"/home/lazafi/labor/ml-2019/male2019/3/data/CarData/TrainImages\")\n",
    "car_data.loadImages(\"/home/lazafi/labor/ml-2019/male2019/3/data/CarData/TestImages\", \"neg\")\n",
    "print(car_data.count)\n"
   ]
  },
  {
   "cell_type": "code",
   "execution_count": null,
   "metadata": {},
   "outputs": [],
   "source": [
    "car_data.addFeatures(Histogram(10))\n",
    "\n",
    "# knn\n",
    "exp1 = Experiment(car_data, KNeighborsClassifier(n_neighbors=3, weights = 'distance'),  \"Histogram with Knn k=3\")\n",
    "exp1.train()\n",
    "exp1.evaluate(figure=True)\n"
   ]
  },
  {
   "cell_type": "code",
   "execution_count": null,
   "metadata": {},
   "outputs": [],
   "source": [
    "exp1.evaluate(text=True)"
   ]
  },
  {
   "cell_type": "code",
   "execution_count": null,
   "metadata": {},
   "outputs": [],
   "source": []
  }
 ],
 "metadata": {
  "kernelspec": {
   "display_name": "'Python Interactive'",
   "language": "python",
   "name": "69d59fda-bc78-482a-ba5b-ec07de5178d5"
  },
  "language_info": {
   "codemirror_mode": {
    "name": "ipython",
    "version": 3
   },
   "file_extension": ".py",
   "mimetype": "text/x-python",
   "name": "python",
   "nbconvert_exporter": "python",
   "pygments_lexer": "ipython3",
   "version": "3.5.2"
  }
 },
 "nbformat": 4,
 "nbformat_minor": 2
}
